{
 "cells": [
  {
   "cell_type": "markdown",
   "metadata": {
    "colab_type": "text",
    "id": "InpZ_5qmoanS"
   },
   "source": [
    "Timezone Group 6 - B : \n",
    "\n",
    "Ken Chan (mindmothership@gmail.com), \n",
    "\n",
    "Handy Gunawan (Handygunawan17@gmail.com), \n",
    "\n",
    "Joe Hoong Ng (ng_joehoong@hotmail.com), \n",
    "\n",
    "Trai Torsricharoen (traitorsricharoen@gmail.com)"
   ]
  },
  {
   "cell_type": "markdown",
   "metadata": {
    "colab_type": "text",
    "id": "ck2e4mhzyN3b"
   },
   "source": [
    "### Introduction\n",
    "\n",
    "In the first group work, we have shown how to compute individual expected return and standard deviation as well as correlation of two index funds. Furthermore, in this group work, we will show how to plot an efficient frontier plot and show the return-volatility relationship from two index. Finally, we will compare our portfolio performance with a market index (S&P 500)."
   ]
  },
  {
   "cell_type": "markdown",
   "metadata": {},
   "source": [
    "First, lets download the data, See the first five rows of our XLI and XLE closed price data."
   ]
  },
  {
   "cell_type": "code",
   "execution_count": 2,
   "metadata": {
    "cellView": "both",
    "colab": {
     "base_uri": "https://localhost:8080/",
     "height": 431
    },
    "colab_type": "code",
    "id": "UwOvFGXswrvm",
    "outputId": "1de1b6bd-f987-442a-bd1b-cbd3f4f74985"
   },
   "outputs": [
    {
     "data": {
      "text/html": [
       "<div>\n",
       "<style scoped>\n",
       "    .dataframe tbody tr th:only-of-type {\n",
       "        vertical-align: middle;\n",
       "    }\n",
       "\n",
       "    .dataframe tbody tr th {\n",
       "        vertical-align: top;\n",
       "    }\n",
       "\n",
       "    .dataframe thead th {\n",
       "        text-align: right;\n",
       "    }\n",
       "</style>\n",
       "<table border=\"1\" class=\"dataframe\">\n",
       "  <thead>\n",
       "    <tr style=\"text-align: right;\">\n",
       "      <th></th>\n",
       "      <th>XLI</th>\n",
       "      <th>XLE</th>\n",
       "    </tr>\n",
       "    <tr>\n",
       "      <th>Date</th>\n",
       "      <th></th>\n",
       "      <th></th>\n",
       "    </tr>\n",
       "  </thead>\n",
       "  <tbody>\n",
       "    <tr>\n",
       "      <th>2017-11-27</th>\n",
       "      <td>71.529999</td>\n",
       "      <td>67.190002</td>\n",
       "    </tr>\n",
       "    <tr>\n",
       "      <th>2017-11-28</th>\n",
       "      <td>72.620003</td>\n",
       "      <td>67.709999</td>\n",
       "    </tr>\n",
       "    <tr>\n",
       "      <th>2017-11-29</th>\n",
       "      <td>73.260002</td>\n",
       "      <td>68.080002</td>\n",
       "    </tr>\n",
       "    <tr>\n",
       "      <th>2017-11-30</th>\n",
       "      <td>74.510002</td>\n",
       "      <td>69.099998</td>\n",
       "    </tr>\n",
       "    <tr>\n",
       "      <th>2017-12-01</th>\n",
       "      <td>73.589996</td>\n",
       "      <td>69.680000</td>\n",
       "    </tr>\n",
       "  </tbody>\n",
       "</table>\n",
       "</div>"
      ],
      "text/plain": [
       "                  XLI        XLE\n",
       "Date                            \n",
       "2017-11-27  71.529999  67.190002\n",
       "2017-11-28  72.620003  67.709999\n",
       "2017-11-29  73.260002  68.080002\n",
       "2017-11-30  74.510002  69.099998\n",
       "2017-12-01  73.589996  69.680000"
      ]
     },
     "execution_count": 2,
     "metadata": {},
     "output_type": "execute_result"
    }
   ],
   "source": [
    "# read in XLE and XLI data from excel sheet using pandas library\n",
    "# Now, we can use pandas read_excel after installing the excel importer.\n",
    "#!pip install -q xlrd\n",
    "\n",
    "import pandas as pd\n",
    "XLE = pd.read_excel('GWP_PTAP_Data.xlsx', sheet_name=\"XLE\", index_col=0, header=1)\n",
    "XLI = pd.read_excel('GWP_PTAP_Data.xlsx', sheet_name=\"XLI\", index_col=0, header=1)\n",
    "df = pd.merge(XLI,XLE,how='left',left_index=True, right_index=True)\n",
    "df.rename(columns = {'Closing price_x':'XLI','Closing price_y' : 'XLE'}).head()"
   ]
  },
  {
   "cell_type": "markdown",
   "metadata": {
    "colab_type": "text",
    "id": "9FFQT8Af1lG-"
   },
   "source": [
    "As a reminder, let's recompute and see the expected returns, annualized volatility and correlation of our index funds.\n",
    "\n"
   ]
  },
  {
   "cell_type": "code",
   "execution_count": 3,
   "metadata": {
    "cellView": "both",
    "colab": {
     "base_uri": "https://localhost:8080/",
     "height": 50
    },
    "colab_type": "code",
    "id": "c6GDIi1MzNe4",
    "outputId": "82f60d20-e4ab-433d-9f59-1d4e38c94b86"
   },
   "outputs": [],
   "source": [
    "# Calculate expected return, annualised volatility and correlation as done in the first submission\n",
    "# Calculate expected return based on CAPM\n",
    "\n",
    "# Shared paremeters\n",
    "rf = 0.0225 # Risk-free rate\n",
    "market_r = 0.09 # Market return\n",
    "\n",
    "# XLE - parameter\n",
    "XLE_beta = 1.07\n",
    "\n",
    "# XLE - Expected return\n",
    "XLE_r = rf + XLE_beta * (market_r - rf)\n",
    "\n",
    "# XLI - parameter\n",
    "XLI_beta = 1.06\n",
    "\n",
    "# XLI - Expected return\n",
    "XLI_r = rf + XLI_beta * (market_r - rf)\n"
   ]
  },
  {
   "cell_type": "code",
   "execution_count": 4,
   "metadata": {
    "cellView": "both",
    "colab": {
     "base_uri": "https://localhost:8080/",
     "height": 50
    },
    "colab_type": "code",
    "id": "ktLBP0-O1Xna",
    "outputId": "2240154b-bf58-4705-da9e-739b33a21748"
   },
   "outputs": [],
   "source": [
    "#@title\n",
    "# Next we need to calculated volatility\n",
    "import numpy as np\n",
    "trading_days_in_year = 252\n",
    "\n",
    "# Calucalate XLE vol\n",
    "XLE_lr = np.log(XLE['Closing price']/XLE['Closing price'].shift(1)).dropna()\n",
    "XLE_daily_vol = XLE_lr.std()\n",
    "XLE_annual_vol = XLE_daily_vol * np.sqrt(trading_days_in_year)\n",
    "\n",
    "# Calucalate XLI vol\n",
    "XLI_lr = np.log(XLI['Closing price']/XLI['Closing price'].shift(1)).dropna()\n",
    "XLI_daily_vol = XLI_lr.std()\n",
    "XLI_annual_vol = XLI_daily_vol * np.sqrt(trading_days_in_year)\n"
   ]
  },
  {
   "cell_type": "code",
   "execution_count": 5,
   "metadata": {
    "cellView": "both",
    "colab": {
     "base_uri": "https://localhost:8080/",
     "height": 34
    },
    "colab_type": "code",
    "id": "wEB_psSP4ah6",
    "outputId": "509312d7-1967-4846-a009-ed0ba2f3fae2"
   },
   "outputs": [],
   "source": [
    "#@title\n",
    "# Next we calculate correlation\n",
    "\n",
    "correlation_mat = np.corrcoef(XLE_lr,XLI_lr)\n",
    "# get correlation between XLE and XLI\n",
    "correlation = correlation_mat[0][1]\n"
   ]
  },
  {
   "cell_type": "code",
   "execution_count": 6,
   "metadata": {},
   "outputs": [
    {
     "data": {
      "text/html": [
       "<div>\n",
       "<style scoped>\n",
       "    .dataframe tbody tr th:only-of-type {\n",
       "        vertical-align: middle;\n",
       "    }\n",
       "\n",
       "    .dataframe tbody tr th {\n",
       "        vertical-align: top;\n",
       "    }\n",
       "\n",
       "    .dataframe thead th {\n",
       "        text-align: right;\n",
       "    }\n",
       "</style>\n",
       "<table border=\"1\" class=\"dataframe\">\n",
       "  <thead>\n",
       "    <tr style=\"text-align: right;\">\n",
       "      <th></th>\n",
       "      <th>Expected Return (%)</th>\n",
       "      <th>Annual Volatility (%)</th>\n",
       "      <th>Correlation (%)</th>\n",
       "    </tr>\n",
       "  </thead>\n",
       "  <tbody>\n",
       "    <tr>\n",
       "      <th>XLE</th>\n",
       "      <td>9.4725</td>\n",
       "      <td>20.319553</td>\n",
       "      <td>65.965022</td>\n",
       "    </tr>\n",
       "    <tr>\n",
       "      <th>XLI</th>\n",
       "      <td>9.4050</td>\n",
       "      <td>17.118915</td>\n",
       "      <td>65.965022</td>\n",
       "    </tr>\n",
       "  </tbody>\n",
       "</table>\n",
       "</div>"
      ],
      "text/plain": [
       "     Expected Return (%)  Annual Volatility (%)  Correlation (%)\n",
       "XLE               9.4725              20.319553        65.965022\n",
       "XLI               9.4050              17.118915        65.965022"
      ]
     },
     "execution_count": 6,
     "metadata": {},
     "output_type": "execute_result"
    }
   ],
   "source": [
    "x = {'Expected Return (%)':[XLE_r*100,XLI_r*100],\n",
    "     'Annual Volatility (%)':[XLE_annual_vol*100,XLI_annual_vol*100],\n",
    "     'Correlation (%)':[correlation*100,correlation*100]}\n",
    "\n",
    "pd.DataFrame(x,index=['XLE','XLI'])"
   ]
  },
  {
   "cell_type": "markdown",
   "metadata": {
    "colab_type": "text",
    "id": "g4ZZgUJB1vst"
   },
   "source": [
    "# <h3>A) Calculate and draw a scatter plot graph of the efficient frontier based on 11 combinations of XLE and XLI</h3>\n",
    "\n",
    "In this section we will try to answer part a of the submission 2. \n",
    "\n",
    "Since we are looking for the expected return and we expect it will follow it's long term linear relationship with the market index (an assumption needed for the submission), we are using CAPM to calculate the expected return. We do note that last 2 years average yearly return for our index has been negative following our benchmark index S&P500 return. \n",
    "\n",
    "Do note that our portfolio being a linear combination of two index will have a linear relationship also as such :\n",
    "\n",
    "\n",
    "$${Portfolio \\;\\ Return}=w_{XLI}*{XLI \\;\\ Return} + w_{XLE} * {XLE \\;\\ Return}$$\n",
    "\n",
    "\n",
    "See the return result per weight of portfolio and the resulting plot as below\n"
   ]
  },
  {
   "cell_type": "code",
   "execution_count": 7,
   "metadata": {
    "cellView": "both",
    "colab": {
     "base_uri": "https://localhost:8080/",
     "height": 269
    },
    "colab_type": "code",
    "id": "BM5WYlUc0UjK",
    "outputId": "88dd52b9-c2a9-4c37-ae77-99e1949be12f"
   },
   "outputs": [
    {
     "name": "stdout",
     "output_type": "stream",
     "text": [
      "+--------------+------+------+-----------------+\n",
      "|     No.      | XLE  | XLI  | Expected Return |\n",
      "+--------------+------+------+-----------------+\n",
      "| Portfolio 1  | 100% |  0%  |     9.4725%     |\n",
      "| Portfolio 2  | 90%  | 10%  |     9.4657%     |\n",
      "| Portfolio 3  | 80%  | 20%  |     9.4590%     |\n",
      "| Portfolio 4  | 70%  | 30%  |     9.4522%     |\n",
      "| Portfolio 5  | 60%  | 40%  |     9.4455%     |\n",
      "| Portfolio 6  | 50%  | 50%  |     9.4388%     |\n",
      "| Portfolio 7  | 40%  | 60%  |     9.4320%     |\n",
      "| Portfolio 8  | 30%  | 70%  |     9.4253%     |\n",
      "| Portfolio 9  | 20%  | 80%  |     9.4185%     |\n",
      "| Portfolio 10 | 10%  | 90%  |     9.4117%     |\n",
      "| Portfolio 11 |  0%  | 100% |     9.4050%     |\n",
      "+--------------+------+------+-----------------+\n"
     ]
    }
   ],
   "source": [
    "#@title\n",
    "# Create numpy array for each weight\n",
    "w2 = np.linspace(0,1,11)\n",
    "w1 = 1-w2\n",
    "counter=np.linspace(1,11,11)\n",
    "exp_return = w1*XLE_r + w2*XLI_r\n",
    "\n",
    "from prettytable import PrettyTable\n",
    "t = PrettyTable(['No.','XLE', 'XLI','Expected Return'])\n",
    "for i, j, c, d in zip(w1, w2, counter,exp_return):\n",
    "  t.add_row([ \"Portfolio \"+ str(int(c)),\"{:.0f}%\".format(i*100), \"{:.0f}%\".format(j*100), \"{:.04f}%\".format(d*100)])\n",
    "print(t)\n",
    "\n"
   ]
  },
  {
   "cell_type": "code",
   "execution_count": 8,
   "metadata": {
    "cellView": "both",
    "colab": {
     "base_uri": "https://localhost:8080/",
     "height": 295
    },
    "colab_type": "code",
    "id": "kWlqiJoc6QbG",
    "outputId": "28704c06-5b95-4a49-f104-91c9b2c8020e"
   },
   "outputs": [
    {
     "data": {
      "image/png": "[encoded data removed]",
      "text/plain": [
       "<Figure size 432x288 with 1 Axes>"
      ]
     },
     "metadata": {
      "needs_background": "light"
     },
     "output_type": "display_data"
    }
   ],
   "source": [
    "#@title\n",
    "# Plot result\n",
    "import matplotlib.pyplot as plt\n",
    "%matplotlib inline\n",
    "\n",
    "plt.clf()\n",
    "plt.title(\"Portfolio Expected Return\")\n",
    "plt.xlabel(\"Weight of XLE\")\n",
    "plt.ylabel(\"Expected Return\")\n",
    "plt.plot(w1,exp_return)\n",
    "plt.show()"
   ]
  },
  {
   "cell_type": "markdown",
   "metadata": {
    "colab_type": "text",
    "id": "hsSbKlKmmzLL"
   },
   "source": [
    "## Calculate portfolio volatility based on given weight\n",
    "\n",
    "Furthermore, our portfolio volatility has different relationship compared to our returns. The difference stems from the fact that our volatility is univariate and is gotten from taking the root of total squared deviations. See the complete formula below  :\n",
    "\n",
    "\n",
    "$$\\sigma_{p}=\\sqrt{\\omega_{1}^{2} \\sigma_{1}^{2}+\\omega_{2}^{2} \\sigma_{2}^{2}+2 \\omega_{1} \\sigma_{1} \\omega_{2} \\sigma_{2} \\rho_{1,2}}$$\n",
    "\n",
    "where:\n",
    "\n",
    "$\\sigma_{p}=$ volatility of the portfolio \n",
    "\n",
    "$\\omega_{1}=$ weight of asset 1 in the portfolio \n",
    "\n",
    "$\\sigma_{1}=$ volatility of asset 1 \n",
    "\n",
    "$\\omega_{2}=$ weight of asset 2 in the portfolio \n",
    "\n",
    "$\\sigma_{2}=$ volatility of asset 2 \n",
    "\n",
    "$\\rho_{1,2}=$ correlation between asset 1 and asset 2 returns.\n",
    "\n",
    "Furthemore, we plotted the volatility per portfolio and updated our table."
   ]
  },
  {
   "cell_type": "code",
   "execution_count": 9,
   "metadata": {
    "cellView": "both",
    "colab": {
     "base_uri": "https://localhost:8080/",
     "height": 50
    },
    "colab_type": "code",
    "id": "50yCGd6f6uQe",
    "outputId": "44ffc55b-0b5e-443a-8e3d-5040b558e658"
   },
   "outputs": [
    {
     "name": "stdout",
     "output_type": "stream",
     "text": [
      "+--------------+------+------+-----------------+----------------------+\n",
      "|     No.      | XLE  | XLI  | Expected Return | Portfolio Volatility |\n",
      "+--------------+------+------+-----------------+----------------------+\n",
      "| Portfolio 1  | 100% |  0%  |     9.4725%     |       20.3196%       |\n",
      "| Portfolio 2  | 90%  | 10%  |     9.4657%     |       19.4594%       |\n",
      "| Portfolio 3  | 80%  | 20%  |     9.4590%     |       18.6921%       |\n",
      "| Portfolio 4  | 70%  | 30%  |     9.4522%     |       18.0294%       |\n",
      "| Portfolio 5  | 60%  | 40%  |     9.4455%     |       17.4834%       |\n",
      "| Portfolio 6  | 50%  | 50%  |     9.4388%     |       17.0650%       |\n",
      "| Portfolio 7  | 40%  | 60%  |     9.4320%     |       16.7840%       |\n",
      "| Portfolio 8  | 30%  | 70%  |     9.4253%     |       16.6472%       |\n",
      "| Portfolio 9  | 20%  | 80%  |     9.4185%     |       16.6583%       |\n",
      "| Portfolio 10 | 10%  | 90%  |     9.4117%     |       16.8169%       |\n",
      "| Portfolio 11 |  0%  | 100% |     9.4050%     |       17.1189%       |\n",
      "+--------------+------+------+-----------------+----------------------+\n"
     ]
    }
   ],
   "source": [
    "#@title\n",
    "# Calculate portfolio volatility based on given weight\n",
    "\n",
    "port_vol = np.sqrt(w1**2*XLE_annual_vol**2 + w2**2*XLI_annual_vol**2+2*w1*w2*correlation*XLE_annual_vol*XLI_annual_vol)\n",
    "\n",
    "# Print portfolio volatility\n",
    "# print(\"Calculate portfolio volatility based on given weight = \", port_vol)\n",
    "\n",
    "from prettytable import PrettyTable\n",
    "t = PrettyTable(['No.','XLE', 'XLI','Expected Return','Portfolio Volatility'])\n",
    "for i, j, c, d, e in zip(w1, w2, counter,exp_return, port_vol):\n",
    "  t.add_row([ \"Portfolio \"+ str(int(c)),\"{:.0f}%\".format(i*100), \"{:.0f}%\".format(j*100), \"{:.04f}%\".format(d*100), \"{:.04f}%\".format(e*100)])\n",
    "print(t)\n"
   ]
  },
  {
   "cell_type": "code",
   "execution_count": 10,
   "metadata": {
    "cellView": "both",
    "colab": {
     "base_uri": "https://localhost:8080/",
     "height": 295
    },
    "colab_type": "code",
    "id": "yqZhaEp77Lul",
    "outputId": "32a7e9d8-10e6-4251-98b2-52ab782f3ec9"
   },
   "outputs": [
    {
     "data": {
      "image/png": "[encoded data removed]",
      "text/plain": [
       "<Figure size 432x288 with 1 Axes>"
      ]
     },
     "metadata": {
      "needs_background": "light"
     },
     "output_type": "display_data"
    }
   ],
   "source": [
    "#@title\n",
    "# Plot result\n",
    "\n",
    "plt.clf()\n",
    "plt.title(\"Portfolio Volatility\")\n",
    "plt.xlabel(\"Weight of XLE\")\n",
    "plt.ylabel(\"Volatility\")\n",
    "plt.plot(w1,port_vol)\n",
    "plt.show()"
   ]
  },
  {
   "cell_type": "markdown",
   "metadata": {
    "colab_type": "text",
    "id": "6akBl4Z27fvX"
   },
   "source": [
    "### Scatter plot graph of the efficient frontier\n",
    "\n",
    "Now that we get the portoflio return and volatility, we can draw our efficient frontier. it is essentially just a plot of all possible values of our portfolio return on the y axis and volatility on the x axis. the values are calculated by counting all the possible weight combination of index funds constructing our portfolio\n",
    "\n",
    "\n",
    "As we see that the volatility has a slope and minimum point. We identify that by constructing a portfolio, we can reduce our risk when compared to investing in a single funds. the reduced risk comes from the fact that the volatility of each index funds are not perfectly correlated, meaning that the swing in both our index returns might not happen at the same time or in same directions. hence, netting off each other movements.\n",
    "\n",
    "\n",
    "From our result, we analyzed that :\n",
    "\n",
    "- Portfolio 8(in green) is the global minimum variance portfolio. This is the portfolio on the efficient frontier which has the lowest volatility\n",
    "\n",
    "- portfolio 1 to 7 are known as the efficient frontier, which has the highest return for a given level of volatility."
   ]
  },
  {
   "cell_type": "code",
   "execution_count": 11,
   "metadata": {
    "cellView": "both",
    "colab": {
     "base_uri": "https://localhost:8080/",
     "height": 295
    },
    "colab_type": "code",
    "id": "wwPkqSPa7d3P",
    "outputId": "b6d8e72f-6d24-4aae-8c64-ff542666df2d"
   },
   "outputs": [
    {
     "data": {
      "image/png": "[encoded data removed]",
      "text/plain": [
       "<Figure size 432x288 with 1 Axes>"
      ]
     },
     "metadata": {
      "needs_background": "light"
     },
     "output_type": "display_data"
    }
   ],
   "source": [
    "#@title\n",
    "import numpy as np\n",
    "import matplotlib\n",
    "colors={0:\"blue\", 1:\"blue\",2:\"blue\",3:\"blue\",4:\"blue\",5:\"blue\",6:\"blue\",7:\"green\",8:\"red\",9:\"red\",10:\"red\"}\n",
    "PortfolioLabel={0:\"Portfolio 1\",1:\"Portfolio 2\",2:\"Portfolio 3\",3:\"Portfolio 4\",4:\"Portfolio 5\",5:\"Portfolio 6\",6:\"Portfolio 7\",7:\"Portfolio 8\",8:\"Portfolio 9\",9:\"Portfolio 10\",10:\"Portfolio 11\",}\n",
    "plt.clf()\n",
    "plt.title(\"Efficient Frontier Scatter Plot\")\n",
    "plt.xlabel(\"Portfolio volatility\")\n",
    "plt.ylabel(\"Portfolio Expected Return\")\n",
    "plt.plot(port_vol,exp_return,label=\"Efficient Frontier\")\n",
    "for j in range (0, 11):\n",
    "  plt.plot(port_vol[j],exp_return[j],'o',color=colors[j],label=PortfolioLabel[j])\n",
    "plt.legend(loc='center left', bbox_to_anchor=(1, 0.5))\n",
    "plt.show()"
   ]
  },
  {
   "cell_type": "markdown",
   "metadata": {
    "colab_type": "text",
    "id": "9Rv0L4RK8WUi"
   },
   "source": [
    "# <h3>B) Select a portfolio from portfolios 1-11 on the efficient frontier that satisfies the following constraints:</h3>\n",
    "\n",
    "In this task, we aim to find a portfolio for our investor. They come with a specific request for constrains. Many times our investor will require us to follow a specific constrains such as the sectors of our index funds, target return, volatility, or some performance ratio. for this specific case the constrains are :\n",
    "- The return is greater than 9.43%\n",
    "- The volatility is not greater than 16.8%\n",
    "\n",
    "After checking our possible portfolios we find that\n",
    "\n",
    "Portfolio 7 consist 40 % of XLE and 60 % of XLI has satisfy the investment constraint with its return of 9.432 % and volatility of 16.784 %. Do note tat a small number of increments below our portfolio 7 also fulfills the requirement. Below is the resulting test and plot of our tests.\n"
   ]
  },
  {
   "cell_type": "code",
   "execution_count": 12,
   "metadata": {
    "cellView": "both",
    "colab": {
     "base_uri": "https://localhost:8080/",
     "height": 269
    },
    "colab_type": "code",
    "id": "2yJPTvT2ZPxy",
    "outputId": "e3fe2509-d960-41cb-a8a8-b73e7878210f"
   },
   "outputs": [
    {
     "name": "stdout",
     "output_type": "stream",
     "text": [
      "+--------------+--------------+-------------------+-----------------+\n",
      "|     No.      | return>9.43% | volatility<=16.8% | Both conditions |\n",
      "+--------------+--------------+-------------------+-----------------+\n",
      "| Portfolio 1  |     True     |       False       |      False      |\n",
      "| Portfolio 2  |     True     |       False       |      False      |\n",
      "| Portfolio 3  |     True     |       False       |      False      |\n",
      "| Portfolio 4  |     True     |       False       |      False      |\n",
      "| Portfolio 5  |     True     |       False       |      False      |\n",
      "| Portfolio 6  |     True     |       False       |      False      |\n",
      "| Portfolio 7  |     True     |        True       |       True      |\n",
      "| Portfolio 8  |    False     |        True       |      False      |\n",
      "| Portfolio 9  |    False     |        True       |      False      |\n",
      "| Portfolio 10 |    False     |       False       |      False      |\n",
      "| Portfolio 11 |    False     |       False       |      False      |\n",
      "+--------------+--------------+-------------------+-----------------+\n"
     ]
    }
   ],
   "source": [
    "# Looking for portfolios that satisfy our conditions\n",
    "select_port_con1 = np.greater(exp_return,0.0943)\n",
    "select_port_con2 = np.less_equal(port_vol,0.168)\n",
    "select_port = np.logical_and(select_port_con1,select_port_con2)\n",
    "counter=np.linspace(1,11,11)\n",
    "\n",
    "from prettytable import PrettyTable\n",
    "t = PrettyTable(['No.','return>9.43%','volatility<=16.8%','Both conditions'])\n",
    "for con1,con2,con1_2, c in zip(select_port_con1,select_port_con2, select_port, counter):\n",
    "  t.add_row([ \"Portfolio \"+ str(int(c)),con1,con2,con1_2])\n",
    "print(t)\n"
   ]
  },
  {
   "cell_type": "code",
   "execution_count": 13,
   "metadata": {
    "cellView": "both",
    "colab": {
     "base_uri": "https://localhost:8080/",
     "height": 295
    },
    "colab_type": "code",
    "id": "gVPGig8TnUmt",
    "outputId": "f9eaba9b-825e-46b0-fbe5-79899f5dfb72"
   },
   "outputs": [
    {
     "data": {
      "image/png": "[encoded data removed]",
      "text/plain": [
       "<Figure size 432x288 with 1 Axes>"
      ]
     },
     "metadata": {
      "needs_background": "light"
     },
     "output_type": "display_data"
    }
   ],
   "source": [
    "#@title\n",
    "import numpy as np\n",
    "import matplotlib\n",
    "returnCriteria = 9.43/100\n",
    "volatilityCriteria = 16.8/100\n",
    "colors={0:\"blue\", 1:\"blue\",2:\"blue\",3:\"blue\",4:\"blue\",5:\"blue\",6:\"orange\",7:\"green\",8:\"red\",9:\"red\",10:\"red\"}\n",
    "PortfolioLabel={0:\"Portfolio 1\",1:\"Portfolio 2\",2:\"Portfolio 3\",3:\"Portfolio 4\",4:\"Portfolio 5\",5:\"Portfolio 6\",6:\"Portfolio 7\",7:\"Portfolio 8\",8:\"Portfolio 9\",9:\"Portfolio 10\",10:\"Portfolio 11\",}\n",
    "plt.clf()\n",
    "plt.title(\"Efficient Frontier Scatter Plot\")\n",
    "plt.xlabel(\"Portfolio volatility\")\n",
    "plt.ylabel(\"Portfolio Expected Return\")\n",
    "plt.plot(port_vol,exp_return,label=\"Efficient Frontier\")\n",
    "\n",
    "for j in range (0, 11):\n",
    "  plt.plot(port_vol[j],exp_return[j],'o',color=colors[j],label=PortfolioLabel[j])\n",
    "\n",
    "plt.axhline(returnCriteria, color='r', linestyle='-')\n",
    "plt.axvline(volatilityCriteria, color='r')\n",
    "\n",
    "plt.legend(loc='center left', bbox_to_anchor=(1, 0.5))\n",
    "plt.show()"
   ]
  },
  {
   "cell_type": "markdown",
   "metadata": {
    "colab_type": "text",
    "id": "dSPOAFB9_S3G"
   },
   "source": [
    "# <h3>C) Comment on how the portfolio selected in Submission 2(b) is expected to perform relative to the S&P 500 in terms of the following:</h3>\n",
    "\n",
    "\n",
    "- Return\n",
    "- Risk \n",
    "- Risk-adjusted return (e.g. Sharpe Ratio)\n",
    "\n",
    "We approach this question with 2 different methods:\n",
    "\n",
    "1) Using actual historical returns as expected future returns, or, \n",
    "\n",
    "2) Using CAPM model to estimate expected future returns\n",
    "\n",
    "Both methods are usable, it depends on how confident we are with the future results and the time span of returns we are looking for (next 1 month, year or decades). There are also methods to forecast the future returns based on historical and or our expected returns. However, we answers the question using the two scenarios above.\n",
    "\n",
    "First, check out the historical data :\n"
   ]
  },
  {
   "cell_type": "code",
   "execution_count": 14,
   "metadata": {
    "cellView": "both",
    "colab": {
     "base_uri": "https://localhost:8080/",
     "height": 431
    },
    "colab_type": "code",
    "id": "BF9IFsAroEac",
    "outputId": "85effedf-2026-4fc3-9912-2e42c239895c"
   },
   "outputs": [
    {
     "data": {
      "text/html": [
       "<div>\n",
       "<style scoped>\n",
       "    .dataframe tbody tr th:only-of-type {\n",
       "        vertical-align: middle;\n",
       "    }\n",
       "\n",
       "    .dataframe tbody tr th {\n",
       "        vertical-align: top;\n",
       "    }\n",
       "\n",
       "    .dataframe thead th {\n",
       "        text-align: right;\n",
       "    }\n",
       "</style>\n",
       "<table border=\"1\" class=\"dataframe\">\n",
       "  <thead>\n",
       "    <tr style=\"text-align: right;\">\n",
       "      <th></th>\n",
       "      <th>XLE</th>\n",
       "      <th>XLI</th>\n",
       "      <th>Port</th>\n",
       "      <th>SP500</th>\n",
       "      <th>ActiveRet</th>\n",
       "    </tr>\n",
       "    <tr>\n",
       "      <th>Date</th>\n",
       "      <th></th>\n",
       "      <th></th>\n",
       "      <th></th>\n",
       "      <th></th>\n",
       "      <th></th>\n",
       "    </tr>\n",
       "  </thead>\n",
       "  <tbody>\n",
       "    <tr>\n",
       "      <th>2017-11-28</th>\n",
       "      <td>0.007709</td>\n",
       "      <td>0.015123</td>\n",
       "      <td>0.012158</td>\n",
       "      <td>0.009800</td>\n",
       "      <td>0.002358</td>\n",
       "    </tr>\n",
       "    <tr>\n",
       "      <th>2017-11-29</th>\n",
       "      <td>0.005450</td>\n",
       "      <td>0.008774</td>\n",
       "      <td>0.007444</td>\n",
       "      <td>-0.000369</td>\n",
       "      <td>0.007814</td>\n",
       "    </tr>\n",
       "    <tr>\n",
       "      <th>2017-11-30</th>\n",
       "      <td>0.014871</td>\n",
       "      <td>0.016919</td>\n",
       "      <td>0.016100</td>\n",
       "      <td>0.008158</td>\n",
       "      <td>0.007942</td>\n",
       "    </tr>\n",
       "    <tr>\n",
       "      <th>2017-12-01</th>\n",
       "      <td>0.008359</td>\n",
       "      <td>-0.012424</td>\n",
       "      <td>-0.004111</td>\n",
       "      <td>-0.002027</td>\n",
       "      <td>-0.002085</td>\n",
       "    </tr>\n",
       "    <tr>\n",
       "      <th>2017-12-04</th>\n",
       "      <td>-0.000431</td>\n",
       "      <td>0.008390</td>\n",
       "      <td>0.004862</td>\n",
       "      <td>-0.001053</td>\n",
       "      <td>0.005914</td>\n",
       "    </tr>\n",
       "  </tbody>\n",
       "</table>\n",
       "</div>"
      ],
      "text/plain": [
       "                 XLE       XLI      Port     SP500  ActiveRet\n",
       "Date                                                         \n",
       "2017-11-28  0.007709  0.015123  0.012158  0.009800   0.002358\n",
       "2017-11-29  0.005450  0.008774  0.007444 -0.000369   0.007814\n",
       "2017-11-30  0.014871  0.016919  0.016100  0.008158   0.007942\n",
       "2017-12-01  0.008359 -0.012424 -0.004111 -0.002027  -0.002085\n",
       "2017-12-04 -0.000431  0.008390  0.004862 -0.001053   0.005914"
      ]
     },
     "execution_count": 14,
     "metadata": {},
     "output_type": "execute_result"
    }
   ],
   "source": [
    "#@title\n",
    "# We calculate the daily log returns of the 40:60 XLE:XLI portfolio\n",
    "logreturns_df = pd.concat([XLE_lr, XLI_lr], keys=['XLE', 'XLI'], axis=1)\n",
    "logreturns_df['Port'] = 0.4* logreturns_df['XLE'] + 0.6 * logreturns_df['XLI']\n",
    "# We import S&P 500 price\n",
    "SP500 = pd.read_excel('GWP_PTAP_Data.xlsx', sheet_name=\"S&P500\", index_col=0, header=1)\n",
    "SP500_lr = np.log(SP500['Close']/SP500['Close'].shift(1)).dropna()\n",
    "logreturns_df = logreturns_df.join(SP500_lr.to_frame(name=\"SP500\"))\n",
    "logreturns_df['ActiveRet'] = logreturns_df['Port'] - logreturns_df['SP500']\n",
    "logreturns_df.head()\n"
   ]
  },
  {
   "cell_type": "markdown",
   "metadata": {
    "colab_type": "text",
    "id": "LtR4dVeLcZPK"
   },
   "source": [
    "Furthermore, We build a comparison of both historical and CAPM induced returns and performance summary. However since we have no information for the volatility other than the historical volatility, we only use the historical value to count our volatility.\n",
    "\n",
    "From the results below we can see that historically, our returns are negative. this fact is reflected also on our risk adjusted returns. however, by way of CAPM our returns are positive. Now, we can understand that the volatility(risk) of our market benchmark are high (0.148), and has differences to our portfolio (0.16). compared to the returns of and risk of our portfolio, the benchmark does not differ so much.\n",
    "\n",
    "However, there are still merits in building our portfolio (if assumed our portfolio performance will follow that of CAPM) as reflected in the positive sharpe, information and treynor ratio. The sharpe shows we have added value compared to risk free rate, information shows the additional amount of return we got after each risk we take. and treynor shows the additional return if we build a portfolio compared to the portfolio beta."
   ]
  },
  {
   "cell_type": "code",
   "execution_count": 15,
   "metadata": {},
   "outputs": [],
   "source": [
    "return_table = {\"Historical Expected Return\" : np.mean(logreturns_df)*trading_days_in_year,\n",
    "                \"Volatility\" : np.std(logreturns_df)*np.sqrt(trading_days_in_year)}\n",
    "return_table = pd.DataFrame(return_table).T\n",
    "return_table['Portfolio - SP500'] =  return_table['Port']-return_table['SP500']"
   ]
  },
  {
   "cell_type": "code",
   "execution_count": 16,
   "metadata": {},
   "outputs": [],
   "source": [
    "active_return = logreturns_df['ActiveRet'].mean()\n",
    "active_risk = logreturns_df['Port'].std()-logreturns_df['SP500'].std()\n",
    "\n",
    "from scipy import stats\n",
    "(port_beta, port_alpha) = stats.linregress(logreturns_df['SP500'],\n",
    "                logreturns_df['Port'])[0:2]\n",
    "\n",
    "treynor_ratio = (logreturns_df['ActiveRet'].mean()-rf)/port_beta\n",
    "summary_table = {\"Sharpe Ratio\" : (logreturns_df['ActiveRet'].mean()-rf)/logreturns_df['Port'].std(),\n",
    "                 \"Information Ratio\" : active_return/active_risk,\n",
    "                 \"Portfolio Beta\": round(port_beta, 4),\n",
    "                 \"Treynor Ratio\":(logreturns_df['ActiveRet'].mean()-rf)/port_beta}\n",
    "summary_table = pd.DataFrame(summary_table,index=[\"Historical\"])\n"
   ]
  },
  {
   "cell_type": "code",
   "execution_count": 17,
   "metadata": {},
   "outputs": [
    {
     "data": {
      "text/html": [
       "<div>\n",
       "<style scoped>\n",
       "    .dataframe tbody tr th:only-of-type {\n",
       "        vertical-align: middle;\n",
       "    }\n",
       "\n",
       "    .dataframe tbody tr th {\n",
       "        vertical-align: top;\n",
       "    }\n",
       "\n",
       "    .dataframe thead th {\n",
       "        text-align: right;\n",
       "    }\n",
       "</style>\n",
       "<table border=\"1\" class=\"dataframe\">\n",
       "  <thead>\n",
       "    <tr style=\"text-align: right;\">\n",
       "      <th></th>\n",
       "      <th>XLE</th>\n",
       "      <th>XLI</th>\n",
       "      <th>Port</th>\n",
       "      <th>SP500</th>\n",
       "      <th>ActiveRet</th>\n",
       "      <th>Portfolio - SP500</th>\n",
       "    </tr>\n",
       "  </thead>\n",
       "  <tbody>\n",
       "    <tr>\n",
       "      <th>CAPM Expected Return</th>\n",
       "      <td>0.094725</td>\n",
       "      <td>0.094050</td>\n",
       "      <td>0.094320</td>\n",
       "      <td>0.090000</td>\n",
       "      <td>0.004320</td>\n",
       "      <td>0.004320</td>\n",
       "    </tr>\n",
       "    <tr>\n",
       "      <th>Historical Expected Return</th>\n",
       "      <td>-0.050449</td>\n",
       "      <td>-0.025690</td>\n",
       "      <td>-0.035594</td>\n",
       "      <td>0.011995</td>\n",
       "      <td>-0.047588</td>\n",
       "      <td>-0.047588</td>\n",
       "    </tr>\n",
       "    <tr>\n",
       "      <th>Volatility</th>\n",
       "      <td>0.202789</td>\n",
       "      <td>0.170846</td>\n",
       "      <td>0.167504</td>\n",
       "      <td>0.148295</td>\n",
       "      <td>0.081682</td>\n",
       "      <td>0.019209</td>\n",
       "    </tr>\n",
       "  </tbody>\n",
       "</table>\n",
       "</div>"
      ],
      "text/plain": [
       "                                 XLE       XLI      Port     SP500  ActiveRet  \\\n",
       "CAPM Expected Return        0.094725  0.094050  0.094320  0.090000   0.004320   \n",
       "Historical Expected Return -0.050449 -0.025690 -0.035594  0.011995  -0.047588   \n",
       "Volatility                  0.202789  0.170846  0.167504  0.148295   0.081682   \n",
       "\n",
       "                            Portfolio - SP500  \n",
       "CAPM Expected Return                 0.004320  \n",
       "Historical Expected Return          -0.047588  \n",
       "Volatility                           0.019209  "
      ]
     },
     "execution_count": 17,
     "metadata": {},
     "output_type": "execute_result"
    }
   ],
   "source": [
    "CAPM_return_table = {'XLE':XLE_r,\n",
    "    'XLI':XLI_r,\n",
    "        'Port':exp_return[6],\n",
    "            'SP500':market_r,\n",
    "                'ActiveRet':exp_return[6] - market_r,\n",
    "                    'Portfolio - SP500' : exp_return[6] - market_r}\n",
    "CAPM_return_table = pd.DataFrame(CAPM_return_table,index=[\"CAPM Expected Return\"])\n",
    "return_table = pd.concat([CAPM_return_table,return_table])\n",
    "return_table"
   ]
  },
  {
   "cell_type": "code",
   "execution_count": 18,
   "metadata": {},
   "outputs": [
    {
     "data": {
      "text/html": [
       "<div>\n",
       "<style scoped>\n",
       "    .dataframe tbody tr th:only-of-type {\n",
       "        vertical-align: middle;\n",
       "    }\n",
       "\n",
       "    .dataframe tbody tr th {\n",
       "        vertical-align: top;\n",
       "    }\n",
       "\n",
       "    .dataframe thead th {\n",
       "        text-align: right;\n",
       "    }\n",
       "</style>\n",
       "<table border=\"1\" class=\"dataframe\">\n",
       "  <thead>\n",
       "    <tr style=\"text-align: right;\">\n",
       "      <th></th>\n",
       "      <th>Sharpe Ratio</th>\n",
       "      <th>Information Ratio</th>\n",
       "      <th>Portfolio Beta</th>\n",
       "      <th>Treynor Ratio</th>\n",
       "    </tr>\n",
       "  </thead>\n",
       "  <tbody>\n",
       "    <tr>\n",
       "      <th>CAPM</th>\n",
       "      <td>0.427908</td>\n",
       "      <td>0.221025</td>\n",
       "      <td>1.0640</td>\n",
       "      <td>0.067500</td>\n",
       "    </tr>\n",
       "    <tr>\n",
       "      <th>Historical</th>\n",
       "      <td>-2.145940</td>\n",
       "      <td>-0.155746</td>\n",
       "      <td>0.9862</td>\n",
       "      <td>-0.023006</td>\n",
       "    </tr>\n",
       "  </tbody>\n",
       "</table>\n",
       "</div>"
      ],
      "text/plain": [
       "            Sharpe Ratio  Information Ratio  Portfolio Beta  Treynor Ratio\n",
       "CAPM            0.427908           0.221025          1.0640       0.067500\n",
       "Historical     -2.145940          -0.155746          0.9862      -0.023006"
      ]
     },
     "execution_count": 18,
     "metadata": {},
     "output_type": "execute_result"
    }
   ],
   "source": [
    "CAPM_summary_table = {\"Sharpe Ratio\" : (exp_return[6]-rf)/port_vol[6],\n",
    "                 \"Information Ratio\" : (exp_return[6] - market_r)/(port_vol[6]-return_table.iloc[-1,3]),\n",
    "                 \"Portfolio Beta\": w1[6]*XLE_beta+w2[6]*XLI_beta,\n",
    "                 \"Treynor Ratio\":((exp_return[6]-rf)/( w1[6]*XLE_beta+w2[6]*XLI_beta))}\n",
    "CAPM_summary_table = pd.DataFrame(CAPM_summary_table,index=[\"CAPM\"])\n",
    "pd.concat([CAPM_summary_table,summary_table])"
   ]
  },
  {
   "cell_type": "markdown",
   "metadata": {
    "colab_type": "text",
    "id": "C7q0TimYFXyN"
   },
   "source": [
    "# <h3>D) Comment on the appropriateness of the S&P 500 as a benchmark for the portfolio and conclusion</h3> "
   ]
  },
  {
   "cell_type": "markdown",
   "metadata": {
    "colab_type": "text",
    "id": "U-NjiRjJFdXe"
   },
   "source": [
    "XLE represents all energy stocks in the S&P500 index, while XLI represents all industrial stocks in the S&P500 index. Thus, there is some overlap between our portfolio and  S&P500 as a benchmark as they represent the same universe of 500 large-capitalization US stocks, yet there is some differentiation between the portfolio and the benchmark (via different sector weightages), making calculations and interpretation of active return meaningful.\n",
    "\n",
    "With S&P500 as the benchmark, we will be able to determine if the outperformance of our portfolio comes from an \"allocation effect\", as we have weighted different sectors of the S&P500 index differently. There would be no selection or interaction effect present as we did not select individual stocks."
   ]
  },
  {
   "cell_type": "code",
   "execution_count": null,
   "metadata": {},
   "outputs": [],
   "source": []
  },
  {
   "cell_type": "markdown",
   "metadata": {
    "colab_type": "text",
    "id": "CAwkJJiGgN0g"
   },
   "source": [
    "**References**\n",
    "\n",
    "coding finance. (2018). How to calculate portfolio beta in Python. Retrieved from https://www.codingfinance.com/post/2018-04-25-portfolio-beta-py/\n",
    "\n",
    "State Street Global Advisors SPDR. (2020). The Energy Select Sector SPDR Fund. Retrieved from https://www.ssga.com/library-content/products/factsheets/etfs/us/factsheet-us-en-xle.pdf\n",
    "\n",
    "State Street Global Advisors SPDR. (2020). The Industrial Select Sector SPDR Fund. Retrieved from https://www.ssga.com/library-content/products/factsheets/etfs/us/factsheet-us-en-xli.pdf"
   ]
  },
  {
   "cell_type": "code",
   "execution_count": null,
   "metadata": {
    "colab": {},
    "colab_type": "code",
    "id": "hoggugS5hKXT"
   },
   "outputs": [],
   "source": []
  }
 ],
 "metadata": {
  "colab": {
   "collapsed_sections": [],
   "name": "PTAP - GW II.ipynb",
   "provenance": []
  },
  "kernelspec": {
   "display_name": "Python 3",
   "language": "python",
   "name": "python3"
  },
  "language_info": {
   "codemirror_mode": {
    "name": "ipython",
    "version": 3
   },
   "file_extension": ".py",
   "mimetype": "text/x-python",
   "name": "python",
   "nbconvert_exporter": "python",
   "pygments_lexer": "ipython3",
   "version": "3.7.6"
  }
 },
 "nbformat": 4,
 "nbformat_minor": 1
}
